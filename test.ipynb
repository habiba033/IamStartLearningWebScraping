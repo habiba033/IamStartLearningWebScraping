{
 "cells": [
  {
   "cell_type": "code",
   "execution_count": null,
   "id": "ccf649bb",
   "metadata": {},
   "outputs": [
    {
     "name": "stdout",
     "output_type": "stream",
     "text": [
      "<!DOCTYPE html>\n",
      "<html lang=\"en\">\n",
      " <head>\n",
      "  <meta charset=\"utf-8\"/>\n",
      "  <meta content=\"width=device-width, initial-scale=1.0\" name=\"viewport\"/>\n",
      "  <title>\n",
      "   DEPI Courses\n",
      "  </title>\n",
      "  <style>\n",
      "   body {\n",
      "      font-family: Arial, sans-serif;\n",
      "      background-color: #f5f7fa;\n",
      "      text-align: center;\n",
      "      margin: 0;\n",
      "      padding: 20px;\n",
      "    }\n",
      "    h1 {\n",
      "      color: #2c3e50;\n",
      "    }\n",
      "    .courses {\n",
      "      display: flex;\n",
      "      justify-content: center;\n",
      "      gap: 20px;\n",
      "      margin-top: 30px;\n",
      "      flex-wrap: wrap;\n",
      "    }\n",
      "    .card {\n",
      "      background: white;\n",
      "      border-radius: 8px;\n",
      "      width: 300px;\n",
      "      box-shadow: 0 4px 8px rgba(0,0,0,0.1);\n",
      "      overflow: hidden;\n",
      "    }\n",
      "    .card-header {\n",
      "      padding: 10px;\n",
      "      color: white;\n",
      "      font-weight: bold;\n",
      "    }\n",
      "    .card-header.blue { background-color: #007bff; }\n",
      "    .card-header.green { background-color: #28a745; }\n",
      "    .card-header.red { background-color: #dc3545; }\n",
      "\n",
      "    .card-body {\n",
      "      padding: 20px;\n",
      "    }\n",
      "\n",
      "    .card-body h3 {\n",
      "      margin: 10px 0;\n",
      "    }\n",
      "\n",
      "    .card-body p {\n",
      "      font-size: 14px;\n",
      "      color: #555;\n",
      "    }\n",
      "\n",
      "    .btn {\n",
      "      display: block;\n",
      "      margin: 20px auto 0;\n",
      "      background-color: #007bff;\n",
      "      color: white;\n",
      "      border: none;\n",
      "      padding: 10px 20px;\n",
      "      border-radius: 6px;\n",
      "      font-weight: bold;\n",
      "      cursor: pointer;\n",
      "    }\n",
      "\n",
      "    .btn:hover {\n",
      "      background-color: #0056b3;\n",
      "    }\n",
      "  </style>\n",
      " </head>\n",
      " <body>\n",
      "  <h1>\n",
      "   Welcome to DEPI_R3_BNS_DS Courses\n",
      "  </h1>\n",
      "  <div class=\"courses\">\n",
      "   <div class=\"card\">\n",
      "    <div class=\"card-header blue\">\n",
      "     Python and Web Scraping\n",
      "    </div>\n",
      "    <div class=\"card-body\">\n",
      "     <h3>\n",
      "      Python for Beginners\n",
      "     </h3>\n",
      "     <p>\n",
      "      Welcome to the DEPI DS Program. Start your journey with Python fundamentals!\n",
      "     </p>\n",
      "     <button class=\"btn\">\n",
      "      Win $20\n",
      "     </button>\n",
      "    </div>\n",
      "   </div>\n",
      "   <div class=\"card\">\n",
      "    <div class=\"card-header green\">\n",
      "     Data Science\n",
      "    </div>\n",
      "    <div class=\"card-body\">\n",
      "     <h3>\n",
      "      Python Web Development\n",
      "     </h3>\n",
      "     <p>\n",
      "      Already know Python? Learn how to build powerful web applications with it!\n",
      "     </p>\n",
      "     <button class=\"btn\">\n",
      "      Win $30\n",
      "     </button>\n",
      "    </div>\n",
      "   </div>\n",
      "   <div class=\"card\">\n",
      "    <div class=\"card-header red\">\n",
      "     Machine Learning\n",
      "    </div>\n",
      "    <div class=\"card-body\">\n",
      "     <h3>\n",
      "      Python Machine Learning\n",
      "     </h3>\n",
      "     <p>\n",
      "      Dive into AI and ML. Master data modeling and prediction using Python!\n",
      "     </p>\n",
      "     <button class=\"btn\">\n",
      "      Win $100\n",
      "     </button>\n",
      "    </div>\n",
      "   </div>\n",
      "  </div>\n",
      " </body>\n",
      "</html>\n",
      "\n"
     ]
    }
   ],
   "source": [
    "from bs4 import BeautifulSoup\n",
    "\n",
    "with open(r'C:\\Users\\mosta\\Desktop\\clonegit\\IamStartLearningWebScraping\\home.html', 'r') as html_file:\n",
    "    content = html_file.read()\n",
    "#هنا بتحولي النص العادي اللي في content اليsoup BeautifulSoup.\n",
    "# 'lxml' هو البارسر (parser)، يعني الأداة اللي بتفهم تركيب الصفحة. هو أسرع من الافتراضي (html.parser).\n",
    "    soup = BeautifulSoup(content, 'lxml')\n",
    "    print(soup.prettify()) #soup.prettify() بترجع نسخة منسقة (مرتبة) من صفحة HTML بتسهل قراءتها\n",
    "\n"
   ]
  },
  {
   "cell_type": "code",
   "execution_count": 17,
   "id": "2ce19af6",
   "metadata": {},
   "outputs": [
    {
     "name": "stdout",
     "output_type": "stream",
     "text": [
      "[<h1>Welcome to DEPI_R3_BNS_DS Courses</h1>]\n"
     ]
    }
   ],
   "source": [
    "from bs4 import BeautifulSoup\n",
    "\n",
    "with open(r'C:\\Users\\mosta\\Desktop\\clonegit\\IamStartLearningWebScraping\\home.html', 'r') as html_file:\n",
    "    content = html_file.read()\n",
    "    soup = BeautifulSoup(content, 'lxml')\n",
    "    print(soup.find_all('h1'))"
   ]
  },
  {
   "cell_type": "code",
   "execution_count": 21,
   "id": "7e4fb094",
   "metadata": {},
   "outputs": [
    {
     "name": "stdout",
     "output_type": "stream",
     "text": [
      "<h3>Python for Beginners</h3>\n",
      "<h3>Python Web Development</h3>\n",
      "<h3>Python Machine Learning</h3>\n"
     ]
    }
   ],
   "source": [
    "from bs4 import BeautifulSoup\n",
    "\n",
    "with open(r'C:\\Users\\mosta\\Desktop\\clonegit\\IamStartLearningWebScraping\\home.html', 'r') as html_file:\n",
    "    content = html_file.read()\n",
    "    soup = BeautifulSoup(content, 'lxml')\n",
    "    courses_html_tags = soup.find_all('h3')\n",
    "    for courses in courses_html_tags:\n",
    "        print(courses)"
   ]
  },
  {
   "cell_type": "code",
   "execution_count": null,
   "id": "975752b6",
   "metadata": {},
   "outputs": [
    {
     "name": "stdout",
     "output_type": "stream",
     "text": [
      "Python for Beginners\n",
      "Python Web Development\n",
      "Python Machine Learning\n"
     ]
    }
   ],
   "source": [
    "from bs4 import BeautifulSoup\n",
    "\n",
    "with open(r'C:\\Users\\mosta\\Desktop\\clonegit\\IamStartLearningWebScraping\\home.html', 'r') as html_file:\n",
    "    content = html_file.read()\n",
    "    soup = BeautifulSoup(content, 'lxml')\n",
    "    courses_html_tags = soup.find_all('h3')\n",
    "    for courses in courses_html_tags:\n",
    "        print(courses.text)\n",
    "        # ممكن احطه على json file بعد كده\n",
    "        "
   ]
  },
  {
   "cell_type": "code",
   "execution_count": null,
   "id": "6e5006a2",
   "metadata": {},
   "outputs": [],
   "source": [
    "from bs4 import BeautifulSoup\n",
    "\n",
    "with open(r'C:\\Users\\mosta\\Desktop\\clonegit\\IamStartLearningWebScraping\\home.html', 'r') as html_file:\n",
    "    content = html_file.read()\n",
    "    soup = BeautifulSoup(content, 'lxml')\n",
    "    \n"
   ]
  }
 ],
 "metadata": {
  "kernelspec": {
   "display_name": ".env",
   "language": "python",
   "name": "python3"
  },
  "language_info": {
   "codemirror_mode": {
    "name": "ipython",
    "version": 3
   },
   "file_extension": ".py",
   "mimetype": "text/x-python",
   "name": "python",
   "nbconvert_exporter": "python",
   "pygments_lexer": "ipython3",
   "version": "3.10.7"
  }
 },
 "nbformat": 4,
 "nbformat_minor": 5
}
